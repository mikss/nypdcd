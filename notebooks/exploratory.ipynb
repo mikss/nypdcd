{
 "cells": [
  {
   "cell_type": "code",
   "execution_count": null,
   "metadata": {},
   "outputs": [],
   "source": [
    "import os\n",
    "import sys\n",
    "\n",
    "import matplotlib.pyplot as plt\n",
    "import pandas as pd\n",
    "import seaborn as sns\n",
    "\n",
    "from etl import get_latest_cached\n",
    "\n",
    "\n",
    "# path variables\n",
    "root = os.path.join(os.getenv(\"REPO_ROOT\"), \"src\")\n",
    "%cd $root\n",
    "sys.path.insert(0, root)\n",
    "\n",
    "# plotting\n",
    "%matplotlib inline\n",
    "sns.set_style(\"whitegrid\")"
   ]
  },
  {
   "cell_type": "markdown",
   "metadata": {},
   "source": [
    "# Ingestion"
   ]
  },
  {
   "cell_type": "code",
   "execution_count": null,
   "metadata": {},
   "outputs": [],
   "source": [
    "df = get_latest_cached()\n",
    "display(df.head())\n",
    "print(df.shape)\n",
    "print(df.columns)"
   ]
  },
  {
   "cell_type": "markdown",
   "metadata": {},
   "source": [
    "# Sanity checks"
   ]
  },
  {
   "cell_type": "markdown",
   "metadata": {},
   "source": [
    "## Internal descriptions"
   ]
  },
  {
   "cell_type": "code",
   "execution_count": null,
   "metadata": {},
   "outputs": [],
   "source": [
    "df.PD_DESC.value_counts().head(10)"
   ]
  },
  {
   "cell_type": "markdown",
   "metadata": {},
   "source": [
    "## Transit crimes"
   ]
  },
  {
   "cell_type": "code",
   "execution_count": null,
   "metadata": {},
   "outputs": [],
   "source": [
    "df.TRANSIT_DISTRICT.value_counts()  # this is something related to NYPD transit enforcement"
   ]
  },
  {
   "cell_type": "code",
   "execution_count": null,
   "metadata": {},
   "outputs": [],
   "source": [
    "df.TRANSIT_DISTRICT.count()"
   ]
  },
  {
   "cell_type": "code",
   "execution_count": null,
   "metadata": {},
   "outputs": [],
   "source": [
    "df.TRANSIT_DISTRICT.count() / df.shape[0]"
   ]
  },
  {
   "cell_type": "code",
   "execution_count": null,
   "metadata": {},
   "outputs": [],
   "source": [
    "df.STATION_NAME.value_counts()"
   ]
  },
  {
   "cell_type": "code",
   "execution_count": null,
   "metadata": {},
   "outputs": [],
   "source": [
    "df.STATION_NAME.count()"
   ]
  },
  {
   "cell_type": "code",
   "execution_count": null,
   "metadata": {},
   "outputs": [],
   "source": [
    "df.STATION_NAME.count() / df.shape[0]"
   ]
  },
  {
   "cell_type": "code",
   "execution_count": null,
   "metadata": {},
   "outputs": [],
   "source": [
    "(df.STATION_NAME.isnull() == df.TRANSIT_DISTRICT.isnull()).all()"
   ]
  },
  {
   "cell_type": "markdown",
   "metadata": {},
   "source": [
    "## Jurisdictions"
   ]
  },
  {
   "cell_type": "code",
   "execution_count": null,
   "metadata": {},
   "outputs": [],
   "source": [
    "df.JURIS_DESC.value_counts()"
   ]
  },
  {
   "cell_type": "code",
   "execution_count": null,
   "metadata": {},
   "outputs": [],
   "source": [
    "df.loc[(df.JURIS_DESC == \"N.Y. TRANSIT POLICE\") & df.TRANSIT_DISTRICT.isnull()]"
   ]
  },
  {
   "cell_type": "code",
   "execution_count": null,
   "metadata": {},
   "outputs": [],
   "source": [
    "df.loc[~(df.JURIS_DESC == \"N.Y. TRANSIT POLICE\") & ~df.STATION_NAME.isnull()]"
   ]
  },
  {
   "cell_type": "markdown",
   "metadata": {},
   "source": [
    "## What happens in train stations?"
   ]
  },
  {
   "cell_type": "code",
   "execution_count": null,
   "metadata": {},
   "outputs": [],
   "source": [
    "df.loc[:, \"OFNS_DESC\"].value_counts() / df.shape[0]"
   ]
  },
  {
   "cell_type": "code",
   "execution_count": null,
   "metadata": {},
   "outputs": [],
   "source": [
    "flt = ~df.STATION_NAME.isnull()\n",
    "df.loc[flt, \"OFNS_DESC\"].value_counts() / flt.sum()"
   ]
  },
  {
   "cell_type": "markdown",
   "metadata": {},
   "source": [
    "## Breakdown by race"
   ]
  },
  {
   "cell_type": "code",
   "execution_count": null,
   "metadata": {},
   "outputs": [],
   "source": [
    "cross_table = (\n",
    "    df\n",
    "    .groupby(['SUSP_RACE', 'VIC_RACE'])\n",
    "    ['OFNS_DESC']\n",
    "    .count()\n",
    "    .unstack(level=0)\n",
    ")\n",
    "cross_table = cross_table.divide(cross_table.sum(axis=1), axis=0)\n",
    "\n",
    "fig, ax = plt.subplots(1, 1, figsize=(10, 10))\n",
    "sns.heatmap(\n",
    "    cross_table, \n",
    "    cmap='RdBu_r', \n",
    "    ax=ax,\n",
    "    square=True,\n",
    "    vmin=0, \n",
    "    vmax=0.666,\n",
    "    annot=True,\n",
    "    fmt='.3f',\n",
    ")"
   ]
  },
  {
   "cell_type": "code",
   "execution_count": null,
   "metadata": {},
   "outputs": [],
   "source": [
    "anti_asian = (\n",
    "    df\n",
    "    .groupby((df.VIC_RACE == \"ASIAN / PACIFIC ISLANDER\"))\n",
    "    [\"OFNS_DESC\"]\n",
    "    .value_counts()\n",
    "    .unstack(level=0)\n",
    ")\n",
    "anti_asian /= anti_asian.sum(axis=0)\n",
    "anti_asian.columns = anti_asian.columns.map({True: \"AAPI\", False: \"Other\"})\n",
    "anti_asian = anti_asian.assign(\n",
    "    abs_gap=anti_asian['AAPI'] - anti_asian['Other'],\n",
    "    rel_gap=anti_asian['AAPI'] / anti_asian['Other'],\n",
    ")\n",
    "\n",
    "anti_asian.sort_values('abs_gap', ascending=False).head(10)"
   ]
  },
  {
   "cell_type": "markdown",
   "metadata": {},
   "source": [
    "# Brainstorm\n",
    "\n",
    "* There is sufficient time coverage (history), space coverage (all of NY) and modest feature set (attributes of complaints) to suggest that we can make informed analyses.\n",
    "* Questions: \n",
    "    - Before/after COVID-19?\n",
    "    - Victim demographics (age, socioeconomic) and district demographics?\n",
    "    - How do complaint ratios compare to arrest / charge ratios?\n",
    "    - Have things been getting better or worse over time (when normalized by population growth)?\n",
    "* Next steps:\n",
    "    - Status of BJS master files?"
   ]
  }
 ],
 "metadata": {
  "kernelspec": {
   "display_name": "Python 3",
   "language": "python",
   "name": "python3"
  },
  "language_info": {
   "codemirror_mode": {
    "name": "ipython",
    "version": 3
   },
   "file_extension": ".py",
   "mimetype": "text/x-python",
   "name": "python",
   "nbconvert_exporter": "python",
   "pygments_lexer": "ipython3",
   "version": "3.8.3"
  }
 },
 "nbformat": 4,
 "nbformat_minor": 4
}
